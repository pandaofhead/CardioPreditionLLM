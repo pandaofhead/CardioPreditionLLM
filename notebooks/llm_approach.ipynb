{
 "cells": [
  {
   "cell_type": "code",
   "execution_count": 4,
   "metadata": {},
   "outputs": [
    {
     "name": "stderr",
     "output_type": "stream",
     "text": [
      "/Users/quanhongjin/anaconda3/lib/python3.11/site-packages/pandas/core/arrays/masked.py:60: UserWarning: Pandas requires version '1.3.6' or newer of 'bottleneck' (version '1.3.5' currently installed).\n",
      "  from pandas.core import (\n",
      "/Users/quanhongjin/anaconda3/lib/python3.11/site-packages/transformers/utils/generic.py:260: FutureWarning: `torch.utils._pytree._register_pytree_node` is deprecated. Please use `torch.utils._pytree.register_pytree_node` instead.\n",
      "  torch.utils._pytree._register_pytree_node(\n"
     ]
    }
   ],
   "source": [
    "# Cell 1: Import libraries\n",
    "import pandas as pd\n",
    "import numpy as np\n",
    "import matplotlib.pyplot as plt\n",
    "import seaborn as sns\n",
    "import os\n",
    "import json\n",
    "import pickle\n",
    "import time\n",
    "from sklearn.model_selection import train_test_split\n",
    "from sklearn.preprocessing import StandardScaler\n",
    "from sklearn.metrics import accuracy_score, precision_score, recall_score, f1_score, roc_auc_score, confusion_matrix, roc_curve\n",
    "from sklearn.ensemble import RandomForestClassifier\n",
    "import xgboost as xgb\n",
    "import requests\n",
    "import joblib\n",
    "import shap\n",
    "from sklearn.linear_model import LogisticRegression\n",
    "from transformers import GPT2Tokenizer, GPT2Model, AutoTokenizer, AutoModel\n",
    "import torch\n",
    "from tqdm.notebook import tqdm"
   ]
  },
  {
   "cell_type": "code",
   "execution_count": 5,
   "metadata": {},
   "outputs": [],
   "source": [
    "# Set random seed\n",
    "np.random.seed(42)\n",
    "torch.manual_seed(42)\n",
    "\n",
    "# Set plot style\n",
    "plt.style.use('seaborn-v0_8-whitegrid')\n",
    "sns.set_palette('Set2')\n",
    "%matplotlib inline"
   ]
  },
  {
   "cell_type": "code",
   "execution_count": 6,
   "metadata": {},
   "outputs": [
    {
     "name": "stdout",
     "output_type": "stream",
     "text": [
      "Dataset shape: (1025, 14)\n"
     ]
    }
   ],
   "source": [
    "# Cell 2: Load and prepare data\n",
    "# Load data\n",
    "df = pd.read_csv('../data/processed/heart_processed.csv')\n",
    "print(f\"Dataset shape: {df.shape}\")\n",
    "df.head()\n",
    "\n",
    "# Feature names and descriptions for prompt engineering\n",
    "feature_descriptions = {\n",
    "    'age': 'age in years',\n",
    "    'sex': 'sex (1 = male; 0 = female)',\n",
    "    'cp': 'chest pain type (0: typical angina, 1: atypical angina, 2: non-anginal pain, 3: asymptomatic)',\n",
    "    'trestbps': 'resting blood pressure in mm Hg on admission to the hospital',\n",
    "    'chol': 'serum cholesterol in mg/dl',\n",
    "    'fbs': 'fasting blood sugar > 120 mg/dl (1 = true; 0 = false)',\n",
    "    'restecg': 'resting electrocardiographic results (0: normal, 1: having ST-T wave abnormality, 2: showing probable or definite left ventricular hypertrophy)',\n",
    "    'thalach': 'maximum heart rate achieved',\n",
    "    'exang': 'exercise induced angina (1 = yes; 0 = no)',\n",
    "    'oldpeak': 'ST depression induced by exercise relative to rest',\n",
    "    'slope': 'the slope of the peak exercise ST segment (0: upsloping, 1: flat, 2: downsloping)',\n",
    "    'ca': 'number of major vessels (0-3) colored by fluoroscopy',\n",
    "    'thal': 'thalassemia (1: normal, 2: fixed defect, 3: reversible defect)'\n",
    "}"
   ]
  },
  {
   "cell_type": "code",
   "execution_count": 7,
   "metadata": {},
   "outputs": [
    {
     "name": "stdout",
     "output_type": "stream",
     "text": [
      "Training set: (717, 13)\n",
      "Validation set: (154, 13)\n",
      "Test set: (154, 13)\n"
     ]
    }
   ],
   "source": [
    "# Cell 3: Split data\n",
    "# Split data into features and target\n",
    "X = df.drop('target', axis=1)\n",
    "y = df['target']\n",
    "\n",
    "# Split into train, validation, and test sets\n",
    "X_train, X_temp, y_train, y_temp = train_test_split(X, y, test_size=0.3, random_state=42, stratify=y)\n",
    "X_val, X_test, y_val, y_test = train_test_split(X_temp, y_temp, test_size=0.5, random_state=42, stratify=y_temp)\n",
    "\n",
    "print(f\"Training set: {X_train.shape}\")\n",
    "print(f\"Validation set: {X_val.shape}\")\n",
    "print(f\"Test set: {X_test.shape}\")"
   ]
  },
  {
   "cell_type": "code",
   "execution_count": 11,
   "metadata": {},
   "outputs": [
    {
     "name": "stdout",
     "output_type": "stream",
     "text": [
      "Collecting openai==0.28\n",
      "  Obtaining dependency information for openai==0.28 from https://files.pythonhosted.org/packages/ae/59/911d6e5f1d7514d79c527067643376cddcf4cb8d1728e599b3b03ab51c69/openai-0.28.0-py3-none-any.whl.metadata\n",
      "  Downloading openai-0.28.0-py3-none-any.whl.metadata (13 kB)\n",
      "Requirement already satisfied: requests>=2.20 in /Users/quanhongjin/anaconda3/lib/python3.11/site-packages (from openai==0.28) (2.32.3)\n",
      "Requirement already satisfied: tqdm in /Users/quanhongjin/anaconda3/lib/python3.11/site-packages (from openai==0.28) (4.65.0)\n",
      "Requirement already satisfied: aiohttp in /Users/quanhongjin/anaconda3/lib/python3.11/site-packages (from openai==0.28) (3.8.5)\n",
      "Requirement already satisfied: charset-normalizer<4,>=2 in /Users/quanhongjin/anaconda3/lib/python3.11/site-packages (from requests>=2.20->openai==0.28) (3.3.2)\n",
      "Requirement already satisfied: idna<4,>=2.5 in /Users/quanhongjin/anaconda3/lib/python3.11/site-packages (from requests>=2.20->openai==0.28) (3.7)\n",
      "Requirement already satisfied: urllib3<3,>=1.21.1 in /Users/quanhongjin/anaconda3/lib/python3.11/site-packages (from requests>=2.20->openai==0.28) (2.3.0)\n",
      "Requirement already satisfied: certifi>=2017.4.17 in /Users/quanhongjin/anaconda3/lib/python3.11/site-packages (from requests>=2.20->openai==0.28) (2025.1.31)\n",
      "Requirement already satisfied: attrs>=17.3.0 in /Users/quanhongjin/anaconda3/lib/python3.11/site-packages (from aiohttp->openai==0.28) (25.1.0)\n",
      "Requirement already satisfied: multidict<7.0,>=4.5 in /Users/quanhongjin/anaconda3/lib/python3.11/site-packages (from aiohttp->openai==0.28) (6.0.2)\n",
      "Requirement already satisfied: async-timeout<5.0,>=4.0.0a3 in /Users/quanhongjin/anaconda3/lib/python3.11/site-packages (from aiohttp->openai==0.28) (4.0.2)\n",
      "Requirement already satisfied: yarl<2.0,>=1.0 in /Users/quanhongjin/anaconda3/lib/python3.11/site-packages (from aiohttp->openai==0.28) (1.8.1)\n",
      "Requirement already satisfied: frozenlist>=1.1.1 in /Users/quanhongjin/anaconda3/lib/python3.11/site-packages (from aiohttp->openai==0.28) (1.3.3)\n",
      "Requirement already satisfied: aiosignal>=1.1.2 in /Users/quanhongjin/anaconda3/lib/python3.11/site-packages (from aiohttp->openai==0.28) (1.2.0)\n",
      "Downloading openai-0.28.0-py3-none-any.whl (76 kB)\n",
      "\u001b[2K   \u001b[90m━━━━━━━━━━━━━━━━━━━━━━━━━━━━━━━━━━━━━━━━\u001b[0m \u001b[32m76.5/76.5 kB\u001b[0m \u001b[31m3.5 MB/s\u001b[0m eta \u001b[36m0:00:00\u001b[0m\n",
      "\u001b[?25hInstalling collected packages: openai\n",
      "  Attempting uninstall: openai\n",
      "    Found existing installation: openai 1.42.0\n",
      "    Uninstalling openai-1.42.0:\n",
      "      Successfully uninstalled openai-1.42.0\n",
      "\u001b[31mERROR: pip's dependency resolver does not currently take into account all the packages that are installed. This behaviour is the source of the following dependency conflicts.\n",
      "langchain-openai 0.0.5 requires openai<2.0.0,>=1.10.0, but you have openai 0.28.0 which is incompatible.\u001b[0m\u001b[31m\n",
      "\u001b[0mSuccessfully installed openai-0.28.0\n"
     ]
    }
   ],
   "source": [
    "!pip install openai==0.28"
   ]
  },
  {
   "cell_type": "code",
   "execution_count": null,
   "metadata": {},
   "outputs": [
    {
     "name": "stdout",
     "output_type": "stream",
     "text": [
      "尝试加载环境变量文件: /Users/quanhongjin/Documents/Cornell Tech/ML4Health/FP/.env.local\n",
      "API密钥是否存在: True\n",
      "发送提示到gpt-4 API:\n",
      "提示长度: 1173字符\n",
      "示例响应(CVD的概率): As an AI, I don't have the ability to diagnose or predict medical conditions. However, I can tell you that several factors in this patient's information, such as the presence of exercise-induced angina, ST depression induced by exercise, and the\n"
     ]
    }
   ],
   "source": [
    "# import os\n",
    "# from dotenv import load_dotenv\n",
    "# from pathlib import Path\n",
    "# from openai import OpenAI\n",
    "\n",
    "# # 获取当前工作目录\n",
    "# current_dir = Path(os.getcwd())\n",
    "\n",
    "# # 获取父目录路径\n",
    "# parent_dir = current_dir.parent\n",
    "\n",
    "# # 构建.env.local的完整路径\n",
    "# env_path = parent_dir / '.env.local'\n",
    "# print(f\"尝试加载环境变量文件: {env_path}\")\n",
    "\n",
    "# # 加载环境变量\n",
    "# load_dotenv(dotenv_path=env_path)\n",
    "\n",
    "# # 检查环境变量是否已加载\n",
    "# api_key = os.environ.get(\"OPENAI_API_KEY\")\n",
    "# print(f\"API密钥是否存在: {api_key is not None}\")"
   ]
  }
 ],
 "metadata": {
  "kernelspec": {
   "display_name": "base",
   "language": "python",
   "name": "python3"
  },
  "language_info": {
   "codemirror_mode": {
    "name": "ipython",
    "version": 3
   },
   "file_extension": ".py",
   "mimetype": "text/x-python",
   "name": "python",
   "nbconvert_exporter": "python",
   "pygments_lexer": "ipython3",
   "version": "3.11.5"
  }
 },
 "nbformat": 4,
 "nbformat_minor": 2
}
